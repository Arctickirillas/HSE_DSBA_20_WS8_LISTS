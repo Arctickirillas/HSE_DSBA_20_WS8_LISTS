{
 "cells": [
  {
   "cell_type": "markdown",
   "metadata": {},
   "source": [
    "# Task 1"
   ]
  },
  {
   "cell_type": "code",
   "execution_count": 2,
   "metadata": {},
   "outputs": [
    {
     "name": "stdout",
     "output_type": "stream",
     "text": [
      "1 2 3\n",
      "1 2 3\n"
     ]
    }
   ],
   "source": [
    "arr = list(map(int, input().split()))\n",
    "ans = 1 \n",
    "for i in range(len(arr)):\n",
    "    ans *= arr[i]\n",
    "    \n",
    "print(ans)"
   ]
  },
  {
   "cell_type": "markdown",
   "metadata": {},
   "source": [
    "# Task 2"
   ]
  },
  {
   "cell_type": "code",
   "execution_count": 3,
   "metadata": {},
   "outputs": [
    {
     "name": "stdout",
     "output_type": "stream",
     "text": [
      "1 2 3 2 3 1 1\n",
      "3 2 1 3 2 1\n",
      "YES\n"
     ]
    }
   ],
   "source": [
    "arr1 = list(map(int, input().split()))\n",
    "arr2 = list(map(int, input().split()))\n",
    "booli = True\n",
    "for i in range(len(arr1)):\n",
    "    if not(arr1[i] in arr2):\n",
    "        booli = False\n",
    "\n",
    "if booli:\n",
    "    print('YES')\n",
    "else:\n",
    "    print('NO')"
   ]
  },
  {
   "cell_type": "markdown",
   "metadata": {},
   "source": [
    "# Task 4"
   ]
  },
  {
   "cell_type": "code",
   "execution_count": 13,
   "metadata": {},
   "outputs": [
    {
     "name": "stdout",
     "output_type": "stream",
     "text": [
      "10 10 20 20 30 30 10 \n",
      "10 20 30\n"
     ]
    }
   ],
   "source": [
    "arr = list(map(int, input().split()))\n",
    "used = []\n",
    "ans = []\n",
    "for i in range(len(arr)):\n",
    "    if not(arr[i] in used):\n",
    "        used.append(arr[i])\n",
    "        ans.append(arr[i])\n",
    "        \n",
    "print(*ans)"
   ]
  },
  {
   "cell_type": "markdown",
   "metadata": {},
   "source": [
    "# Task 3"
   ]
  },
  {
   "cell_type": "code",
   "execution_count": 9,
   "metadata": {},
   "outputs": [
    {
     "name": "stdout",
     "output_type": "stream",
     "text": [
      "1 2 4 5 66 2 34 5 6 2 3 1\n",
      "4\n",
      "1 2 4 5\n",
      "66 2 34 5\n",
      "6 2 3 1\n",
      "\n"
     ]
    }
   ],
   "source": [
    "arr1 = list(map(str, input().split()))\n",
    "n = int(input())\n",
    "ans = []\n",
    "\n",
    "for i in range(len(arr1) // n + 1):\n",
    "    num = min(n, len(arr1))\n",
    "    for j in range(num):\n",
    "        ans.append(arr1[0])\n",
    "        arr1.pop(0)\n",
    "    \n",
    "    print(*ans)\n",
    "    ans=[]"
   ]
  },
  {
   "cell_type": "markdown",
   "metadata": {},
   "source": [
    "# Task 7"
   ]
  },
  {
   "cell_type": "code",
   "execution_count": 14,
   "metadata": {},
   "outputs": [
    {
     "name": "stdout",
     "output_type": "stream",
     "text": [
      "('',) ('a', 'b') ('a', 'b', 'c') ('d',)\n"
     ]
    }
   ],
   "source": [
    "arr = [(), (), ('',), ('a', 'b'), ('a', 'b', 'c'), ('d')]\n",
    "ans = []\n",
    "for i in range(len(arr)):\n",
    "    a = list(arr[i])\n",
    "    if a != []:\n",
    "        a = tuple(a)\n",
    "        ans.append(a)\n",
    "        \n",
    "print(*ans)"
   ]
  },
  {
   "cell_type": "markdown",
   "metadata": {},
   "source": [
    "# Task 6"
   ]
  },
  {
   "cell_type": "code",
   "execution_count": 16,
   "metadata": {},
   "outputs": [
    {
     "name": "stdout",
     "output_type": "stream",
     "text": [
      "[(10, 20, 100), (40, 50, 100), (70, 80, 100)]\n"
     ]
    }
   ],
   "source": [
    "arr =  [(10, 20, 40), (40, 50, 60), (70, 80, 90)]\n",
    "ans = []\n",
    "\n",
    "for i in range(len(arr)):\n",
    "    arr1 = list(arr[i])\n",
    "    arr1[len(arr1) - 1] = 100\n",
    "    ans.append(tuple(arr1))\n",
    "\n",
    "print(ans)"
   ]
  },
  {
   "cell_type": "code",
   "execution_count": null,
   "metadata": {},
   "outputs": [],
   "source": []
  }
 ],
 "metadata": {
  "kernelspec": {
   "display_name": "Python 3",
   "language": "python",
   "name": "python3"
  },
  "language_info": {
   "codemirror_mode": {
    "name": "ipython",
    "version": 3
   },
   "file_extension": ".py",
   "mimetype": "text/x-python",
   "name": "python",
   "nbconvert_exporter": "python",
   "pygments_lexer": "ipython3",
   "version": "3.7.4"
  }
 },
 "nbformat": 4,
 "nbformat_minor": 2
}
